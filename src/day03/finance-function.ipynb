{
 "cells": [
  {
   "cell_type": "code",
   "execution_count": 1,
   "id": "0ec10bf2-5b55-4a60-86dc-e5696a1f8124",
   "metadata": {},
   "outputs": [
    {
     "name": "stdout",
     "output_type": "stream",
     "text": [
      "Defaulting to user installation because normal site-packages is not writeable\n",
      "Requirement already satisfied: pykrx in /home/ubuntu/.local/lib/python3.10/site-packages (1.0.48)\n",
      "Requirement already satisfied: requests in /home/ubuntu/.local/lib/python3.10/site-packages (from pykrx) (2.32.3)\n",
      "Requirement already satisfied: deprecated in /home/ubuntu/.local/lib/python3.10/site-packages (from pykrx) (1.2.18)\n",
      "Requirement already satisfied: multipledispatch in /home/ubuntu/.local/lib/python3.10/site-packages (from pykrx) (1.0.0)\n",
      "Requirement already satisfied: numpy in /home/ubuntu/.local/lib/python3.10/site-packages (from pykrx) (2.1.3)\n",
      "Requirement already satisfied: datetime in /home/ubuntu/.local/lib/python3.10/site-packages (from pykrx) (5.5)\n",
      "Requirement already satisfied: xlrd in /home/ubuntu/.local/lib/python3.10/site-packages (from pykrx) (2.0.1)\n",
      "Requirement already satisfied: pandas in /home/ubuntu/.local/lib/python3.10/site-packages (from pykrx) (2.2.3)\n",
      "Requirement already satisfied: matplotlib in /home/ubuntu/.local/lib/python3.10/site-packages (from pykrx) (3.10.1)\n",
      "Requirement already satisfied: pytz in /home/ubuntu/.local/lib/python3.10/site-packages (from datetime->pykrx) (2025.1)\n",
      "Requirement already satisfied: zope.interface in /usr/lib/python3/dist-packages (from datetime->pykrx) (5.4.0)\n",
      "Requirement already satisfied: wrapt<2,>=1.10 in /home/ubuntu/.local/lib/python3.10/site-packages (from deprecated->pykrx) (1.17.2)\n",
      "Requirement already satisfied: kiwisolver>=1.3.1 in /home/ubuntu/.local/lib/python3.10/site-packages (from matplotlib->pykrx) (1.4.8)\n",
      "Requirement already satisfied: pyparsing>=2.3.1 in /usr/lib/python3/dist-packages (from matplotlib->pykrx) (2.4.7)\n",
      "Requirement already satisfied: cycler>=0.10 in /home/ubuntu/.local/lib/python3.10/site-packages (from matplotlib->pykrx) (0.12.1)\n",
      "Requirement already satisfied: fonttools>=4.22.0 in /home/ubuntu/.local/lib/python3.10/site-packages (from matplotlib->pykrx) (4.56.0)\n",
      "Requirement already satisfied: contourpy>=1.0.1 in /home/ubuntu/.local/lib/python3.10/site-packages (from matplotlib->pykrx) (1.3.1)\n",
      "Requirement already satisfied: packaging>=20.0 in /home/ubuntu/.local/lib/python3.10/site-packages (from matplotlib->pykrx) (24.2)\n",
      "Requirement already satisfied: pillow>=8 in /home/ubuntu/.local/lib/python3.10/site-packages (from matplotlib->pykrx) (11.1.0)\n",
      "Requirement already satisfied: python-dateutil>=2.7 in /home/ubuntu/.local/lib/python3.10/site-packages (from matplotlib->pykrx) (2.9.0.post0)\n",
      "Requirement already satisfied: tzdata>=2022.7 in /home/ubuntu/.local/lib/python3.10/site-packages (from pandas->pykrx) (2025.1)\n",
      "Requirement already satisfied: certifi>=2017.4.17 in /usr/lib/python3/dist-packages (from requests->pykrx) (2020.6.20)\n",
      "Requirement already satisfied: idna<4,>=2.5 in /usr/lib/python3/dist-packages (from requests->pykrx) (3.3)\n",
      "Requirement already satisfied: urllib3<3,>=1.21.1 in /home/ubuntu/.local/lib/python3.10/site-packages (from requests->pykrx) (2.3.0)\n",
      "Requirement already satisfied: charset-normalizer<4,>=2 in /home/ubuntu/.local/lib/python3.10/site-packages (from requests->pykrx) (3.4.1)\n",
      "Requirement already satisfied: six>=1.5 in /usr/lib/python3/dist-packages (from python-dateutil>=2.7->matplotlib->pykrx) (1.16.0)\n"
     ]
    }
   ],
   "source": [
    "!pip install pykrx"
   ]
  },
  {
   "cell_type": "code",
   "execution_count": 2,
   "id": "13895b18",
   "metadata": {},
   "outputs": [
    {
     "name": "stdout",
     "output_type": "stream",
     "text": [
      "Defaulting to user installation because normal site-packages is not writeable\n",
      "Requirement already satisfied: langchain in /home/ubuntu/.local/lib/python3.10/site-packages (0.3.20)\n",
      "Requirement already satisfied: langchain-core<1.0.0,>=0.3.41 in /home/ubuntu/.local/lib/python3.10/site-packages (from langchain) (0.3.45)\n",
      "Requirement already satisfied: requests<3,>=2 in /home/ubuntu/.local/lib/python3.10/site-packages (from langchain) (2.32.3)\n",
      "Requirement already satisfied: langsmith<0.4,>=0.1.17 in /home/ubuntu/.local/lib/python3.10/site-packages (from langchain) (0.3.15)\n",
      "Requirement already satisfied: async-timeout<5.0.0,>=4.0.0 in /home/ubuntu/.local/lib/python3.10/site-packages (from langchain) (4.0.3)\n",
      "Requirement already satisfied: SQLAlchemy<3,>=1.4 in /home/ubuntu/.local/lib/python3.10/site-packages (from langchain) (2.0.39)\n",
      "Requirement already satisfied: PyYAML>=5.3 in /usr/lib/python3/dist-packages (from langchain) (5.4.1)\n",
      "Requirement already satisfied: langchain-text-splitters<1.0.0,>=0.3.6 in /home/ubuntu/.local/lib/python3.10/site-packages (from langchain) (0.3.6)\n",
      "Requirement already satisfied: pydantic<3.0.0,>=2.7.4 in /home/ubuntu/.local/lib/python3.10/site-packages (from langchain) (2.10.6)\n",
      "Requirement already satisfied: langchain-ollama in /home/ubuntu/.local/lib/python3.10/site-packages (from langchain) (0.2.3)\n",
      "Requirement already satisfied: langchain-community in /home/ubuntu/.local/lib/python3.10/site-packages (from langchain) (0.3.19)\n",
      "Requirement already satisfied: tenacity!=8.4.0,<10.0.0,>=8.1.0 in /home/ubuntu/.local/lib/python3.10/site-packages (from langchain-core<1.0.0,>=0.3.41->langchain) (9.0.0)\n",
      "Requirement already satisfied: packaging<25,>=23.2 in /home/ubuntu/.local/lib/python3.10/site-packages (from langchain-core<1.0.0,>=0.3.41->langchain) (24.2)\n",
      "Requirement already satisfied: typing-extensions>=4.7 in /home/ubuntu/.local/lib/python3.10/site-packages (from langchain-core<1.0.0,>=0.3.41->langchain) (4.12.2)\n",
      "Requirement already satisfied: jsonpatch<2.0,>=1.33 in /home/ubuntu/.local/lib/python3.10/site-packages (from langchain-core<1.0.0,>=0.3.41->langchain) (1.33)\n",
      "Requirement already satisfied: orjson<4.0.0,>=3.9.14 in /home/ubuntu/.local/lib/python3.10/site-packages (from langsmith<0.4,>=0.1.17->langchain) (3.10.15)\n",
      "Requirement already satisfied: requests-toolbelt<2.0.0,>=1.0.0 in /home/ubuntu/.local/lib/python3.10/site-packages (from langsmith<0.4,>=0.1.17->langchain) (1.0.0)\n",
      "Requirement already satisfied: zstandard<0.24.0,>=0.23.0 in /home/ubuntu/.local/lib/python3.10/site-packages (from langsmith<0.4,>=0.1.17->langchain) (0.23.0)\n",
      "Requirement already satisfied: httpx<1,>=0.23.0 in /home/ubuntu/.local/lib/python3.10/site-packages (from langsmith<0.4,>=0.1.17->langchain) (0.28.1)\n",
      "Requirement already satisfied: pydantic-core==2.27.2 in /home/ubuntu/.local/lib/python3.10/site-packages (from pydantic<3.0.0,>=2.7.4->langchain) (2.27.2)\n",
      "Requirement already satisfied: annotated-types>=0.6.0 in /home/ubuntu/.local/lib/python3.10/site-packages (from pydantic<3.0.0,>=2.7.4->langchain) (0.7.0)\n",
      "Requirement already satisfied: certifi>=2017.4.17 in /usr/lib/python3/dist-packages (from requests<3,>=2->langchain) (2020.6.20)\n",
      "Requirement already satisfied: urllib3<3,>=1.21.1 in /home/ubuntu/.local/lib/python3.10/site-packages (from requests<3,>=2->langchain) (2.3.0)\n",
      "Requirement already satisfied: idna<4,>=2.5 in /usr/lib/python3/dist-packages (from requests<3,>=2->langchain) (3.3)\n",
      "Requirement already satisfied: charset-normalizer<4,>=2 in /home/ubuntu/.local/lib/python3.10/site-packages (from requests<3,>=2->langchain) (3.4.1)\n",
      "Requirement already satisfied: greenlet!=0.4.17 in /home/ubuntu/.local/lib/python3.10/site-packages (from SQLAlchemy<3,>=1.4->langchain) (3.1.1)\n",
      "Requirement already satisfied: pydantic-settings<3.0.0,>=2.4.0 in /home/ubuntu/.local/lib/python3.10/site-packages (from langchain-community->langchain) (2.8.1)\n",
      "Requirement already satisfied: numpy<3,>=1.26.2 in /home/ubuntu/.local/lib/python3.10/site-packages (from langchain-community->langchain) (2.1.3)\n",
      "Requirement already satisfied: aiohttp<4.0.0,>=3.8.3 in /home/ubuntu/.local/lib/python3.10/site-packages (from langchain-community->langchain) (3.11.14)\n",
      "Requirement already satisfied: dataclasses-json<0.7,>=0.5.7 in /home/ubuntu/.local/lib/python3.10/site-packages (from langchain-community->langchain) (0.6.7)\n",
      "Requirement already satisfied: httpx-sse<1.0.0,>=0.4.0 in /home/ubuntu/.local/lib/python3.10/site-packages (from langchain-community->langchain) (0.4.0)\n",
      "Requirement already satisfied: ollama<1,>=0.4.4 in /home/ubuntu/.local/lib/python3.10/site-packages (from langchain-ollama->langchain) (0.4.7)\n",
      "Requirement already satisfied: aiosignal>=1.1.2 in /home/ubuntu/.local/lib/python3.10/site-packages (from aiohttp<4.0.0,>=3.8.3->langchain-community->langchain) (1.3.2)\n",
      "Requirement already satisfied: yarl<2.0,>=1.17.0 in /home/ubuntu/.local/lib/python3.10/site-packages (from aiohttp<4.0.0,>=3.8.3->langchain-community->langchain) (1.18.3)\n",
      "Requirement already satisfied: attrs>=17.3.0 in /usr/lib/python3/dist-packages (from aiohttp<4.0.0,>=3.8.3->langchain-community->langchain) (21.2.0)\n",
      "Requirement already satisfied: frozenlist>=1.1.1 in /home/ubuntu/.local/lib/python3.10/site-packages (from aiohttp<4.0.0,>=3.8.3->langchain-community->langchain) (1.5.0)\n",
      "Requirement already satisfied: propcache>=0.2.0 in /home/ubuntu/.local/lib/python3.10/site-packages (from aiohttp<4.0.0,>=3.8.3->langchain-community->langchain) (0.3.0)\n",
      "Requirement already satisfied: aiohappyeyeballs>=2.3.0 in /home/ubuntu/.local/lib/python3.10/site-packages (from aiohttp<4.0.0,>=3.8.3->langchain-community->langchain) (2.6.1)\n",
      "Requirement already satisfied: multidict<7.0,>=4.5 in /home/ubuntu/.local/lib/python3.10/site-packages (from aiohttp<4.0.0,>=3.8.3->langchain-community->langchain) (6.2.0)\n",
      "Requirement already satisfied: typing-inspect<1,>=0.4.0 in /home/ubuntu/.local/lib/python3.10/site-packages (from dataclasses-json<0.7,>=0.5.7->langchain-community->langchain) (0.9.0)\n",
      "Requirement already satisfied: marshmallow<4.0.0,>=3.18.0 in /home/ubuntu/.local/lib/python3.10/site-packages (from dataclasses-json<0.7,>=0.5.7->langchain-community->langchain) (3.26.1)\n",
      "Requirement already satisfied: anyio in /home/ubuntu/.local/lib/python3.10/site-packages (from httpx<1,>=0.23.0->langsmith<0.4,>=0.1.17->langchain) (4.9.0)\n",
      "Requirement already satisfied: httpcore==1.* in /home/ubuntu/.local/lib/python3.10/site-packages (from httpx<1,>=0.23.0->langsmith<0.4,>=0.1.17->langchain) (1.0.7)\n",
      "Requirement already satisfied: h11<0.15,>=0.13 in /home/ubuntu/.local/lib/python3.10/site-packages (from httpcore==1.*->httpx<1,>=0.23.0->langsmith<0.4,>=0.1.17->langchain) (0.14.0)\n",
      "Requirement already satisfied: jsonpointer>=1.9 in /usr/lib/python3/dist-packages (from jsonpatch<2.0,>=1.33->langchain-core<1.0.0,>=0.3.41->langchain) (2.0)\n",
      "Requirement already satisfied: python-dotenv>=0.21.0 in /home/ubuntu/.local/lib/python3.10/site-packages (from pydantic-settings<3.0.0,>=2.4.0->langchain-community->langchain) (1.0.1)\n",
      "Requirement already satisfied: mypy-extensions>=0.3.0 in /home/ubuntu/.local/lib/python3.10/site-packages (from typing-inspect<1,>=0.4.0->dataclasses-json<0.7,>=0.5.7->langchain-community->langchain) (1.0.0)\n",
      "Requirement already satisfied: exceptiongroup>=1.0.2 in /home/ubuntu/.local/lib/python3.10/site-packages (from anyio->httpx<1,>=0.23.0->langsmith<0.4,>=0.1.17->langchain) (1.2.2)\n",
      "Requirement already satisfied: sniffio>=1.1 in /home/ubuntu/.local/lib/python3.10/site-packages (from anyio->httpx<1,>=0.23.0->langsmith<0.4,>=0.1.17->langchain) (1.3.1)\n"
     ]
    }
   ],
   "source": [
    "!pip install langchain langchain[ollama] langchain[community]"
   ]
  },
  {
   "cell_type": "code",
   "execution_count": 3,
   "id": "751b1813-b5a9-4a4b-b7b4-7631b99b5be4",
   "metadata": {},
   "outputs": [],
   "source": [
    "from pykrx import stock\n",
    "from pykrx import bond"
   ]
  },
  {
   "cell_type": "code",
   "execution_count": 4,
   "id": "62d6d52f",
   "metadata": {},
   "outputs": [],
   "source": [
    "import json\n",
    "\n",
    "def get_market_ohlcv(start_date:str, end_date:str, ticker:str):\n",
    "    stock_name = stock.get_market_ticker_name(ticker)\n",
    "    df = stock.get_market_ohlcv(fromdate=start_date, todate=end_date, ticker=ticker)\n",
    "    df['종목명'] = [stock_name] * len(df)\n",
    "\n",
    "    return json.dumps(df.to_dict(orient='records'), ensure_ascii=False)"
   ]
  },
  {
   "cell_type": "code",
   "execution_count": 5,
   "id": "28443fb3-bcab-42ee-8222-c5cbfde58697",
   "metadata": {},
   "outputs": [
    {
     "name": "stdout",
     "output_type": "stream",
     "text": [
      "[{\"시가\": 61800, \"고가\": 62100, \"저가\": 60500, \"종가\": 60500, \"거래량\": 16782238, \"등락률\": -0.6568144499178982, \"종목명\": \"삼성전자\"}, {\"시가\": 61100, \"고가\": 61900, \"저가\": 60700, \"종가\": 61800, \"거래량\": 12291374, \"등락률\": 2.1487603305785123, \"종목명\": \"삼성전자\"}, {\"시가\": 61800, \"고가\": 62200, \"저가\": 61200, \"종가\": 61300, \"거래량\": 10261310, \"등락률\": -0.8090614886731391, \"종목명\": \"삼성전자\"}, {\"시가\": 60900, \"고가\": 61900, \"저가\": 60800, \"종가\": 61100, \"거래량\": 9193681, \"등락률\": -0.3262642740619902, \"종목명\": \"삼성전자\"}, {\"시가\": 60800, \"고가\": 61900, \"저가\": 60800, \"종가\": 61700, \"거래량\": 6597211, \"등락률\": 0.9819967266775778, \"종목명\": \"삼성전자\"}, {\"시가\": 61300, \"고가\": 61900, \"저가\": 61200, \"종가\": 61800, \"거래량\": 7320997, \"등락률\": 0.1620745542949757, \"종목명\": \"삼성전자\"}, {\"시가\": 62300, \"고가\": 62600, \"저가\": 61600, \"종가\": 61900, \"거래량\": 10745302, \"등락률\": 0.16181229773462785, \"종목명\": \"삼성전자\"}, {\"시가\": 62400, \"고가\": 62600, \"저가\": 61300, \"종가\": 61400, \"거래량\": 15093120, \"등락률\": -0.8077544426494345, \"종목명\": \"삼성전자\"}, {\"시가\": 61000, \"고가\": 61700, \"저가\": 60300, \"종가\": 61300, \"거래량\": 13154816, \"등락률\": -0.16286644951140067, \"종목명\": \"삼성전자\"}, {\"시가\": 61200, \"고가\": 61900, \"저가\": 61000, \"종가\": 61700, \"거래량\": 13614895, \"등락률\": 0.6525285481239804, \"종목명\": \"삼성전자\"}, {\"시가\": 61600, \"고가\": 61600, \"저가\": 61000, \"종가\": 61300, \"거래량\": 10053861, \"등락률\": -0.6482982171799028, \"종목명\": \"삼성전자\"}, {\"시가\": 61700, \"고가\": 61800, \"저가\": 61200, \"종가\": 61500, \"거래량\": 9125439, \"등락률\": 0.3262642740619902, \"종목명\": \"삼성전자\"}, {\"시가\": 61700, \"고가\": 61900, \"저가\": 61200, \"종가\": 61500, \"거래량\": 9567620, \"등락률\": 0.0, \"종목명\": \"삼성전자\"}, {\"시가\": 61400, \"고가\": 61400, \"저가\": 60600, \"종가\": 60800, \"거래량\": 11313150, \"등락률\": -1.1382113821138211, \"종목명\": \"삼성전자\"}, {\"시가\": 60600, \"고가\": 60700, \"저가\": 59600, \"종가\": 60000, \"거래량\": 18251170, \"등락률\": -1.3157894736842104, \"종목명\": \"삼성전자\"}, {\"시가\": 58900, \"고가\": 59200, \"저가\": 58600, \"종가\": 59100, \"거래량\": 18084349, \"등락률\": -1.5, \"종목명\": \"삼성전자\"}]\n"
     ]
    }
   ],
   "source": [
    "print(get_market_ohlcv(\"20220720\", \"20220810\", \"005930\"))"
   ]
  },
  {
   "cell_type": "code",
   "execution_count": 6,
   "id": "2611fa8c",
   "metadata": {},
   "outputs": [],
   "source": [
    "from langchain_core.tools import tool\n",
    "\n",
    "@tool\n",
    "def get_market_ohlcv_tool(start_date, end_date, ticker):\n",
    "    \"\"\"Returns stock price data for a set period of time for a particular stock. start_date and end_date should be 'YYYYMMDD' format string and ticker should be 6-digits .\"\"\"\n",
    "    start_date = str(start_date) if isinstance(start_date, int) else start_date\n",
    "    end_date = str(end_date) if isinstance(end_date, int) else end_date\n",
    "    return get_market_ohlcv(start_date, end_date, ticker)"
   ]
  },
  {
   "cell_type": "code",
   "execution_count": null,
   "id": "51b6606e-1fff-4f78-8b8e-5997606a9946",
   "metadata": {},
   "outputs": [
    {
     "name": "stdout",
     "output_type": "stream",
     "text": [
      "content='' additional_kwargs={} response_metadata={} id='run-3e372014-0801-45a1-bc21-08c33ab6ea65-0' tool_calls=[{'name': 'directly-answer', 'args': {}, 'id': '815c3624-6378-430e-b7ab-cf90da3caf25', 'type': 'tool_call'}]\n",
      "content='' additional_kwargs={} response_metadata={} id='run-8cb13827-229e-450d-96bc-c6e3a8a76273-0' tool_calls=[{'name': 'get_market_ohlcv_tool', 'args': {'end_date': 20220901, 'start_date': 20220801, 'ticker': '066570'}, 'id': '96929156-cb2e-44e0-b873-7f26672aafd6', 'type': 'tool_call'}]\n"
     ]
    }
   ],
   "source": [
    "#from langchain_experimental.llms.ollama_functions import OllamaFunctions\n",
    "from langchain_ollama import ChatOllama\n",
    "\n",
    "import os\n",
    "\n",
    "llm = ChatOllama(model=os.getenv(\"OPENAI_DEFAULT_MODEL\"), format=\"json\", temperature=0)\n",
    "llm_with_tools = llm.bind_tools(tools=[get_market_ohlcv_tool])\n",
    "\n",
    "response = llm_with_tools.invoke(\"안녕?\")\n",
    "print(response)\n",
    "\n",
    "query = \"LG전자(066570)의 2022년 8월 1일부터 2022년 9월 1일까지의 주가 데이터를 요약해서 의견을 줘.\"\n",
    "response = llm_with_tools.invoke(query)\n",
    "print(response)"
   ]
  },
  {
   "cell_type": "code",
   "execution_count": 8,
   "id": "01b68455",
   "metadata": {},
   "outputs": [
    {
     "name": "stdout",
     "output_type": "stream",
     "text": [
      "[HumanMessage(content='LG전자(066570)의 2022년 8월 1일부터 2022년 9월 1일까지의 주가 데이터를 요약해서 의견을 줘.', additional_kwargs={}, response_metadata={}), AIMessage(content='', additional_kwargs={}, response_metadata={}, id='run-94e1a50e-9bbb-481e-953f-f65fb2a095b7-0', tool_calls=[{'name': 'get_market_ohlcv_tool', 'args': {'end_date': 20220901, 'start_date': 20220801, 'ticker': '066570'}, 'id': '278b3b26-74fd-43a6-89f7-c9bac1e7c184', 'type': 'tool_call'}]), FunctionMessage(content='[{\"시가\": 94800, \"고가\": 95300, \"저가\": 93600, \"종가\": 94400, \"거래량\": 485739, \"등락률\": 0.0, \"종목명\": \"LG전자\"}, {\"시가\": 94400, \"고가\": 95000, \"저가\": 93200, \"종가\": 93500, \"거래량\": 474933, \"등락률\": -0.9533898305084746, \"종목명\": \"LG전자\"}, {\"시가\": 93500, \"고가\": 93900, \"저가\": 93000, \"종가\": 93800, \"거래량\": 374218, \"등락률\": 0.32085561497326204, \"종목명\": \"LG전자\"}, {\"시가\": 94400, \"고가\": 96900, \"저가\": 94200, \"종가\": 96000, \"거래량\": 1059583, \"등락률\": 2.345415778251599, \"종목명\": \"LG전자\"}, {\"시가\": 96400, \"고가\": 96700, \"저가\": 95400, \"종가\": 95900, \"거래량\": 447686, \"등락률\": -0.10416666666666667, \"종목명\": \"LG전자\"}, {\"시가\": 95800, \"고가\": 95800, \"저가\": 93600, \"종가\": 94000, \"거래량\": 579176, \"등락률\": -1.981230448383733, \"종목명\": \"LG전자\"}, {\"시가\": 94000, \"고가\": 94700, \"저가\": 92800, \"종가\": 94700, \"거래량\": 542364, \"등락률\": 0.7446808510638299, \"종목명\": \"LG전자\"}, {\"시가\": 93900, \"고가\": 94500, \"저가\": 92700, \"종가\": 92800, \"거래량\": 502234, \"등락률\": -2.0063357972544877, \"종목명\": \"LG전자\"}, {\"시가\": 93900, \"고가\": 101000, \"저가\": 93400, \"종가\": 101000, \"거래량\": 2683987, \"등락률\": 8.836206896551724, \"종목명\": \"LG전자\"}, {\"시가\": 100500, \"고가\": 102500, \"저가\": 99600, \"종가\": 101000, \"거래량\": 1151625, \"등락률\": 0.0, \"종목명\": \"LG전자\"}, {\"시가\": 101500, \"고가\": 103000, \"저가\": 100000, \"종가\": 102000, \"거래량\": 872610, \"등락률\": 0.9900990099009901, \"종목명\": \"LG전자\"}, {\"시가\": 102500, \"고가\": 105000, \"저가\": 102000, \"종가\": 103500, \"거래량\": 1537894, \"등락률\": 1.4705882352941175, \"종목명\": \"LG전자\"}, {\"시가\": 102000, \"고가\": 103500, \"저가\": 100500, \"종가\": 102000, \"거래량\": 768622, \"등락률\": -1.4492753623188406, \"종목명\": \"LG전자\"}, {\"시가\": 101500, \"고가\": 102500, \"저가\": 100500, \"종가\": 101000, \"거래량\": 571786, \"등락률\": -0.9803921568627451, \"종목명\": \"LG전자\"}, {\"시가\": 99700, \"고가\": 101500, \"저가\": 99200, \"종가\": 100000, \"거래량\": 664440, \"등락률\": -0.9900990099009901, \"종목명\": \"LG전자\"}, {\"시가\": 99100, \"고가\": 99700, \"저가\": 98000, \"종가\": 98200, \"거래량\": 588286, \"등락률\": -1.7999999999999998, \"종목명\": \"LG전자\"}, {\"시가\": 98800, \"고가\": 99000, \"저가\": 97900, \"종가\": 98100, \"거래량\": 557382, \"등락률\": -0.10183299389002036, \"종목명\": \"LG전자\"}, {\"시가\": 98900, \"고가\": 99700, \"저가\": 98300, \"종가\": 99100, \"거래량\": 541955, \"등락률\": 1.019367991845056, \"종목명\": \"LG전자\"}, {\"시가\": 99900, \"고가\": 100500, \"저가\": 99000, \"종가\": 100500, \"거래량\": 549129, \"등락률\": 1.4127144298688195, \"종목명\": \"LG전자\"}, {\"시가\": 96800, \"고가\": 97500, \"저가\": 95200, \"종가\": 96200, \"거래량\": 852805, \"등락률\": -4.27860696517413, \"종목명\": \"LG전자\"}, {\"시가\": 96600, \"고가\": 97800, \"저가\": 95400, \"종가\": 97500, \"거래량\": 514506, \"등락률\": 1.3513513513513513, \"종목명\": \"LG전자\"}, {\"시가\": 96700, \"고가\": 101000, \"저가\": 96200, \"종가\": 101000, \"거래량\": 712641, \"등락률\": 3.5897435897435894, \"종목명\": \"LG전자\"}, {\"시가\": 99100, \"고가\": 99600, \"저가\": 97700, \"종가\": 97700, \"거래량\": 683659, \"등락률\": -3.2673267326732676, \"종목명\": \"LG전자\"}]', additional_kwargs={}, response_metadata={}, name='get_market_ohlcv_tool')]\n"
     ]
    }
   ],
   "source": [
    "from langchain_core.messages import HumanMessage, FunctionMessage\n",
    "\n",
    "messages = [HumanMessage(query)]\n",
    "ai_msg = llm_with_tools.invoke(query)\n",
    "messages.append(ai_msg)\n",
    "for tool_call in ai_msg.tool_calls:\n",
    "    selected_tool = {\"get_market_ohlcv_tool\": get_market_ohlcv_tool}[tool_call[\"name\"].lower()]\n",
    "    tool_output = selected_tool.invoke(tool_call[\"args\"])\n",
    "    messages.append(FunctionMessage(tool_output, name=tool_call[\"name\"]))\n",
    "\n",
    "print(messages)"
   ]
  },
  {
   "cell_type": "code",
   "execution_count": 9,
   "id": "baf9862c",
   "metadata": {},
   "outputs": [
    {
     "name": "stderr",
     "output_type": "stream",
     "text": [
      "/tmp/ipykernel_13969/1621789022.py:4: LangChainDeprecationWarning: The class `Ollama` was deprecated in LangChain 0.3.1 and will be removed in 1.0.0. An updated version of the class exists in the :class:`~langchain-ollama package and should be used instead. To use it run `pip install -U :class:`~langchain-ollama` and import as `from :class:`~langchain_ollama import OllamaLLM``.\n",
      "  Ollama(model=os.getenv(\"OPENAI_DEFAULT_MODEL\"), temperature=0).invoke(messages)\n"
     ]
    },
    {
     "data": {
      "text/plain": [
       "'제공된 데이터는 LG전자의 주가 변동 기록을 보여줍니다. 기록은 다양한 시가와 가격 범위, 거래량, 그리고 등락률을 포함합니다. 주요 포인트는 다음과 같습니다:\\n\\n- **가격 변동성:** 주가는 시간에 따라 크게 변동하는 것을 알 수 있습니다. 예를 들어, 일부 데이터 포인트에서는 4% 이상의 급격한 상승이나 하락이 나타납니다.\\n- **최고 및 최저 가격:** 가장 높은 종가는 102,500원, 가장 낮은 종가는 97,700원입니다.\\n- **거래량:** 거래량은 주가의 변동성과 비례하는 경향을 보이며, 높은 가격 변동성이 있는 기간에 거래량이 증가합니다.\\n- **등락률:** 등락률은 주가의 변화 정도를 나타내며, 일부 날에는 -4% 이상의 하락도 기록됩니다.\\n\\n이 데이터는 LG전자의 주식 성과를 분석하고, 투자 결정에 참고할 수 있는 중요한 지표를 제공합니다.'"
      ]
     },
     "execution_count": 9,
     "metadata": {},
     "output_type": "execute_result"
    }
   ],
   "source": [
    "from langchain_community.llms import Ollama\n",
    "import os\n",
    "\n",
    "Ollama(model=os.getenv(\"OPENAI_DEFAULT_MODEL\"), temperature=0).invoke(messages)"
   ]
  },
  {
   "cell_type": "code",
   "execution_count": 10,
   "id": "e0bc5c62-c52e-4604-b803-165ad93442fd",
   "metadata": {},
   "outputs": [
    {
     "name": "stdout",
     "output_type": "stream",
     "text": [
      "content='' additional_kwargs={} response_metadata={} id='run-3db86055-536d-4a04-8a0b-5d58cbc969ce-0' tool_calls=[{'name': 'get_market_ohlcv_tool', 'args': {'end_date': 20220901, 'start_date': 20220801, 'ticker': '066570'}, 'id': '915fee48-44f6-43b5-8540-3de69eb6261d', 'type': 'tool_call'}]\n"
     ]
    }
   ],
   "source": [
    "from langchain_ollama import ChatOllama\n",
    "import os\n",
    "\n",
    "llm = ChatOllama(model=os.getenv(\"OPENAI_DEFAULT_MODEL\"), format=\"json\", temperature=0)\n",
    "llm_with_tools = llm.bind_tools(tools=[get_market_ohlcv_tool])\n",
    "\n",
    "messages = [\n",
    "    HumanMessage(\n",
    "        content = \"LG전자(066570)의 2022년 8월 1일부터 2022년 9월 1일까지의 주가 데이터를 요약해서 의견을 줘.\"\n",
    "    )\n",
    "]\n",
    "response = llm_with_tools.invoke(messages)\n",
    "print(response)"
   ]
  },
  {
   "cell_type": "code",
   "execution_count": 11,
   "id": "932a9f9b",
   "metadata": {},
   "outputs": [
    {
     "data": {
      "text/plain": [
       "[HumanMessage(content='LG전자(066570)의 2022년 8월 1일부터 2022년 9월 1일까지의 주가 데이터를 요약해서 의견을 줘.', additional_kwargs={}, response_metadata={}),\n",
       " AIMessage(content='', additional_kwargs={}, response_metadata={}, id='run-4db06001-26f0-484e-8f45-6f327f8496b7-0', tool_calls=[{'name': 'get_market_ohlcv_tool', 'args': {'end_date': 20220901, 'start_date': 20220801, 'ticker': '066570'}, 'id': 'e7694d89-c1fa-4753-985f-2d916c9eee46', 'type': 'tool_call'}]),\n",
       " FunctionMessage(content='[{\"시가\": 94800, \"고가\": 95300, \"저가\": 93600, \"종가\": 94400, \"거래량\": 485739, \"등락률\": 0.0, \"종목명\": \"LG전자\"}, {\"시가\": 94400, \"고가\": 95000, \"저가\": 93200, \"종가\": 93500, \"거래량\": 474933, \"등락률\": -0.9533898305084746, \"종목명\": \"LG전자\"}, {\"시가\": 93500, \"고가\": 93900, \"저가\": 93000, \"종가\": 93800, \"거래량\": 374218, \"등락률\": 0.32085561497326204, \"종목명\": \"LG전자\"}, {\"시가\": 94400, \"고가\": 96900, \"저가\": 94200, \"종가\": 96000, \"거래량\": 1059583, \"등락률\": 2.345415778251599, \"종목명\": \"LG전자\"}, {\"시가\": 96400, \"고가\": 96700, \"저가\": 95400, \"종가\": 95900, \"거래량\": 447686, \"등락률\": -0.10416666666666667, \"종목명\": \"LG전자\"}, {\"시가\": 95800, \"고가\": 95800, \"저가\": 93600, \"종가\": 94000, \"거래량\": 579176, \"등락률\": -1.981230448383733, \"종목명\": \"LG전자\"}, {\"시가\": 94000, \"고가\": 94700, \"저가\": 92800, \"종가\": 94700, \"거래량\": 542364, \"등락률\": 0.7446808510638299, \"종목명\": \"LG전자\"}, {\"시가\": 93900, \"고가\": 94500, \"저가\": 92700, \"종가\": 92800, \"거래량\": 502234, \"등락률\": -2.0063357972544877, \"종목명\": \"LG전자\"}, {\"시가\": 93900, \"고가\": 101000, \"저가\": 93400, \"종가\": 101000, \"거래량\": 2683987, \"등락률\": 8.836206896551724, \"종목명\": \"LG전자\"}, {\"시가\": 100500, \"고가\": 102500, \"저가\": 99600, \"종가\": 101000, \"거래량\": 1151625, \"등락률\": 0.0, \"종목명\": \"LG전자\"}, {\"시가\": 101500, \"고가\": 103000, \"저가\": 100000, \"종가\": 102000, \"거래량\": 872610, \"등락률\": 0.9900990099009901, \"종목명\": \"LG전자\"}, {\"시가\": 102500, \"고가\": 105000, \"저가\": 102000, \"종가\": 103500, \"거래량\": 1537894, \"등락률\": 1.4705882352941175, \"종목명\": \"LG전자\"}, {\"시가\": 102000, \"고가\": 103500, \"저가\": 100500, \"종가\": 102000, \"거래량\": 768622, \"등락률\": -1.4492753623188406, \"종목명\": \"LG전자\"}, {\"시가\": 101500, \"고가\": 102500, \"저가\": 100500, \"종가\": 101000, \"거래량\": 571786, \"등락률\": -0.9803921568627451, \"종목명\": \"LG전자\"}, {\"시가\": 99700, \"고가\": 101500, \"저가\": 99200, \"종가\": 100000, \"거래량\": 664440, \"등락률\": -0.9900990099009901, \"종목명\": \"LG전자\"}, {\"시가\": 99100, \"고가\": 99700, \"저가\": 98000, \"종가\": 98200, \"거래량\": 588286, \"등락률\": -1.7999999999999998, \"종목명\": \"LG전자\"}, {\"시가\": 98800, \"고가\": 99000, \"저가\": 97900, \"종가\": 98100, \"거래량\": 557382, \"등락률\": -0.10183299389002036, \"종목명\": \"LG전자\"}, {\"시가\": 98900, \"고가\": 99700, \"저가\": 98300, \"종가\": 99100, \"거래량\": 541955, \"등락률\": 1.019367991845056, \"종목명\": \"LG전자\"}, {\"시가\": 99900, \"고가\": 100500, \"저가\": 99000, \"종가\": 100500, \"거래량\": 549129, \"등락률\": 1.4127144298688195, \"종목명\": \"LG전자\"}, {\"시가\": 96800, \"고가\": 97500, \"저가\": 95200, \"종가\": 96200, \"거래량\": 852805, \"등락률\": -4.27860696517413, \"종목명\": \"LG전자\"}, {\"시가\": 96600, \"고가\": 97800, \"저가\": 95400, \"종가\": 97500, \"거래량\": 514506, \"등락률\": 1.3513513513513513, \"종목명\": \"LG전자\"}, {\"시가\": 96700, \"고가\": 101000, \"저가\": 96200, \"종가\": 101000, \"거래량\": 712641, \"등락률\": 3.5897435897435894, \"종목명\": \"LG전자\"}, {\"시가\": 99100, \"고가\": 99600, \"저가\": 97700, \"종가\": 97700, \"거래량\": 683659, \"등락률\": -3.2673267326732676, \"종목명\": \"LG전자\"}]', additional_kwargs={}, response_metadata={}, name='get_market_ohlcv_tool')]"
      ]
     },
     "execution_count": 11,
     "metadata": {},
     "output_type": "execute_result"
    }
   ],
   "source": [
    "from langchain_ollama import ChatOllama\n",
    "import os\n",
    "\n",
    "llm = ChatOllama(model=os.getenv(\"OPENAI_DEFAULT_MODEL\"), format=\"json\", temperature=0)\n",
    "llm_with_tools = llm.bind_tools(tools=[get_market_ohlcv_tool])\n",
    "\n",
    "messages = [\n",
    "    HumanMessage(\n",
    "        content = \"LG전자(066570)의 2022년 8월 1일부터 2022년 9월 1일까지의 주가 데이터를 요약해서 의견을 줘.\"\n",
    "    )\n",
    "]\n",
    "ai_msg = llm_with_tools.invoke(messages)\n",
    "messages.append(ai_msg)\n",
    "for tool_call in ai_msg.tool_calls:\n",
    "    selected_tool = {\"get_market_ohlcv_tool\": get_market_ohlcv_tool }[tool_call[\"name\"].lower()]\n",
    "    tool_output = selected_tool.invoke(tool_call[\"args\"])\n",
    "    messages.append(FunctionMessage(tool_output, name=tool_call[\"name\"]))\n",
    "    \n",
    "messages"
   ]
  },
  {
   "cell_type": "code",
   "execution_count": 12,
   "id": "fa88712c",
   "metadata": {},
   "outputs": [
    {
     "data": {
      "text/plain": [
       "'제공된 데이터는 LG전자의 주가 변동 기록을 보여줍니다. 기록은 다양한 시가와 가격 범위, 거래량, 그리고 등락률을 포함합니다. 주요 포인트는 다음과 같습니다:\\n\\n- **가격 변동성:** 주가는 9만 원 대부터 10만 원 대까지 다양하게 변동하며 높은 가격 변동성을 보입니다.\\n- **최고 및 최저 기록:** 가장 높은 종가는 102,500원, 가장 낮은 종가는 97,700원입니다.\\n- **거래량:** 거래량은 50만 주에서 800만 주 이상까지 다양하며, 주가의 변동성과 관련이 있는 것으로 보입니다.\\n- **등락률:** 하루 동안의 등락률은 -4.27%에서 3.59%까지 다양합니다.\\n\\n이 데이터는 LG전자의 주식 성과를 분석하고, 투자 결정에 참고할 수 있는 중요한 정보를 제공합니다.'"
      ]
     },
     "execution_count": 12,
     "metadata": {},
     "output_type": "execute_result"
    }
   ],
   "source": [
    "from langchain_community.llms import Ollama\n",
    "import os\n",
    "\n",
    "Ollama(model=os.getenv(\"OPENAI_DEFAULT_MODEL\"), temperature=0).invoke(messages)"
   ]
  },
  {
   "cell_type": "code",
   "execution_count": null,
   "id": "745ab1f5",
   "metadata": {},
   "outputs": [],
   "source": []
  }
 ],
 "metadata": {
  "kernelspec": {
   "display_name": "Python 3",
   "language": "python",
   "name": "python3"
  },
  "language_info": {
   "codemirror_mode": {
    "name": "ipython",
    "version": 3
   },
   "file_extension": ".py",
   "mimetype": "text/x-python",
   "name": "python",
   "nbconvert_exporter": "python",
   "pygments_lexer": "ipython3",
   "version": "3.10.12"
  }
 },
 "nbformat": 4,
 "nbformat_minor": 5
}
