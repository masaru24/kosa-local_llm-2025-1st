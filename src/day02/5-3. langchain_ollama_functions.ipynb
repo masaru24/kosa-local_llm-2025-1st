{
 "cells": [
  {
   "cell_type": "code",
   "execution_count": null,
   "id": "967c53a9-cb65-49a5-99f4-145651f38bcc",
   "metadata": {},
   "outputs": [],
   "source": [
    "!pip install langchain langchain[ollama] langchain[community]"
   ]
  },
  {
   "cell_type": "code",
   "execution_count": 1,
   "id": "36f6e8c7",
   "metadata": {},
   "outputs": [
    {
     "name": "stderr",
     "output_type": "stream",
     "text": [
      "/home/ubuntu/.local/lib/python3.10/site-packages/IPython/core/interactiveshell.py:3579: LangChainDeprecationWarning: As of langchain-core 0.3.0, LangChain uses pydantic v2 internally. The langchain_core.pydantic_v1 module was a compatibility shim for pydantic v1, and should no longer be used. Please update the code to import from Pydantic directly.\n",
      "\n",
      "For example, replace imports like: `from langchain_core.pydantic_v1 import BaseModel`\n",
      "with: `from pydantic import BaseModel`\n",
      "or the v1 compatibility namespace if you are working in a code base that has not been fully upgraded to pydantic 2 yet. \tfrom pydantic.v1 import BaseModel\n",
      "\n",
      "  exec(code_obj, self.user_global_ns, self.user_ns)\n"
     ]
    }
   ],
   "source": [
    "from langchain_core.prompts import PromptTemplate\n",
    "from langchain_core.pydantic_v1 import BaseModel, Field\n",
    "from langchain_ollama import ChatOllama\n",
    "import os\n",
    "\n",
    "# Schema for structured response\n",
    "class Person(BaseModel):\n",
    "    name: str = Field(description=\"The person's name\", required=True)\n",
    "    height: float = Field(description=\"The person's height\", required=True)\n",
    "    hair_color: str = Field(description=\"The person's hair color\")\n",
    "\n",
    "\n",
    "# Prompt template\n",
    "prompt = PromptTemplate.from_template(\n",
    "    \"\"\"Alex is 5 feet tall. \n",
    "Claudia is 1 feet taller than Alex and jumps higher than him. \n",
    "Claudia is a brunette and Alex is blonde.\n",
    "\n",
    "Human: {question}\n",
    "AI: \"\"\"\n",
    ")\n",
    "\n",
    "# Chain\n",
    "llm = ChatOllama(model=os.getenv(\"OPENAI_DEFAULT_MODEL\"), format=\"json\", temperature=0)\n",
    "structured_llm = llm.with_structured_output(Person)\n",
    "chain = prompt | structured_llm"
   ]
  },
  {
   "cell_type": "code",
   "execution_count": 2,
   "id": "048b4242",
   "metadata": {},
   "outputs": [
    {
     "data": {
      "text/plain": [
       "Person(name='Alex', height=5.0, hair_color='blonde')"
      ]
     },
     "execution_count": 2,
     "metadata": {},
     "output_type": "execute_result"
    }
   ],
   "source": [
    "alex = chain.invoke(\"Describe Alex\")\n",
    "alex"
   ]
  },
  {
   "cell_type": "code",
   "execution_count": 3,
   "id": "034414b2",
   "metadata": {},
   "outputs": [
    {
     "data": {
      "text/plain": [
       "Person(name='Claudia', height=5.01, hair_color='brunette')"
      ]
     },
     "execution_count": 3,
     "metadata": {},
     "output_type": "execute_result"
    }
   ],
   "source": [
    "claudia = chain.invoke(\"Describe Claudia\")\n",
    "claudia"
   ]
  },
  {
   "cell_type": "code",
   "execution_count": 4,
   "id": "7be4f09e",
   "metadata": {},
   "outputs": [],
   "source": [
    "from langchain_core.tools import tool\n",
    "\n",
    "@tool\n",
    "def add(a: int, b: int) -> int:\n",
    "    \"\"\"Adds a and b.\"\"\"\n",
    "    return a + b\n",
    "\n",
    "@tool\n",
    "def multiply(a: int, b: int) -> int:\n",
    "    \"\"\"Multiplies a and b.\"\"\"\n",
    "    return a * b"
   ]
  },
  {
   "cell_type": "code",
   "execution_count": 5,
   "id": "ac9c8581",
   "metadata": {},
   "outputs": [],
   "source": [
    "from langchain_core.pydantic_v1 import BaseModel, Field\n",
    "\n",
    "class Add(BaseModel):\n",
    "    \"\"\"Add two integers together.\"\"\"\n",
    "\n",
    "    a: int = Field(..., description=\"First integer\")\n",
    "    b: int = Field(..., description=\"Second integer\")\n",
    "\n",
    "\n",
    "class Multiply(BaseModel):\n",
    "    \"\"\"Multiply two integers together.\"\"\"\n",
    "\n",
    "    a: int = Field(..., description=\"First integer\")\n",
    "    b: int = Field(..., description=\"Second integer\")"
   ]
  },
  {
   "cell_type": "code",
   "execution_count": 6,
   "id": "840198f4",
   "metadata": {},
   "outputs": [
    {
     "name": "stdout",
     "output_type": "stream",
     "text": [
      "content='' additional_kwargs={} response_metadata={} id='run-e131320e-c7aa-4349-bc54-286e6bccdc11-0' tool_calls=[{'name': 'Add', 'args': {'a': 11, 'b': 49}, 'id': 'f95f99e2-fcb4-428d-88a4-e94a872a3cac', 'type': 'tool_call'}]\n"
     ]
    }
   ],
   "source": [
    "from langchain_ollama import ChatOllama\n",
    "\n",
    "llm = ChatOllama(model=os.getenv(\"OPENAI_DEFAULT_MODEL\"), format=\"json\", temperature=0)\n",
    "llm_with_tools = llm.bind_tools(tools=[Add, Multiply])\n",
    "\n",
    "query = \"what is 11 + 49? Also, What is 3 * 12?\"\n",
    "response = llm_with_tools.invoke(query)\n",
    "print(response)"
   ]
  },
  {
   "cell_type": "code",
   "execution_count": 7,
   "id": "93698a93",
   "metadata": {},
   "outputs": [
    {
     "data": {
      "text/plain": [
       "[{'name': 'Add',\n",
       "  'args': {'a': 11, 'b': 49},\n",
       "  'id': 'f95f99e2-fcb4-428d-88a4-e94a872a3cac',\n",
       "  'type': 'tool_call'}]"
      ]
     },
     "execution_count": 7,
     "metadata": {},
     "output_type": "execute_result"
    }
   ],
   "source": [
    "response.tool_calls"
   ]
  },
  {
   "cell_type": "code",
   "execution_count": 8,
   "id": "3b7fa9de",
   "metadata": {},
   "outputs": [
    {
     "data": {
      "text/plain": [
       "[HumanMessage(content='what is 11 + 49? Also, What is 3 * 12?', additional_kwargs={}, response_metadata={}),\n",
       " AIMessage(content='', additional_kwargs={}, response_metadata={}, id='run-0c3f4efe-c55e-4e21-a6d7-d3372051ff0b-0', tool_calls=[{'name': 'Add', 'args': {'a': 11, 'b': 49}, 'id': '4abeebf2-445f-44d2-8dcb-97089a70f006', 'type': 'tool_call'}]),\n",
       " FunctionMessage(content='60', additional_kwargs={}, response_metadata={}, name='Add')]"
      ]
     },
     "execution_count": 8,
     "metadata": {},
     "output_type": "execute_result"
    }
   ],
   "source": [
    "from langchain_core.messages import HumanMessage, FunctionMessage\n",
    "\n",
    "messages = [HumanMessage(query)]\n",
    "ai_msg = llm_with_tools.invoke(query)\n",
    "messages.append(ai_msg)\n",
    "for tool_call in ai_msg.tool_calls:\n",
    "    selected_tool = {\"add\": add, \"multiply\": multiply}[tool_call[\"name\"].lower()]\n",
    "    tool_output = str(selected_tool.invoke(tool_call[\"args\"]))\n",
    "    messages.append(FunctionMessage(tool_output, name=tool_call[\"name\"]))\n",
    "    \n",
    "messages"
   ]
  },
  {
   "cell_type": "code",
   "execution_count": 9,
   "id": "e9b7716a",
   "metadata": {},
   "outputs": [
    {
     "name": "stderr",
     "output_type": "stream",
     "text": [
      "/tmp/ipykernel_46080/1621789022.py:4: LangChainDeprecationWarning: The class `Ollama` was deprecated in LangChain 0.3.1 and will be removed in 1.0.0. An updated version of the class exists in the :class:`~langchain-ollama package and should be used instead. To use it run `pip install -U :class:`~langchain-ollama` and import as `from :class:`~langchain_ollama import OllamaLLM``.\n",
      "  Ollama(model=os.getenv(\"OPENAI_DEFAULT_MODEL\"), temperature=0).invoke(messages)\n"
     ]
    },
    {
     "data": {
      "text/plain": [
       "\"You asked for the results of two mathematical operations:\\n\\n1. **11 + 49** = 60\\n2. **3 * 12** = 36\\n\\nLet me know if you have any other calculations you'd like assistance with!\""
      ]
     },
     "execution_count": 9,
     "metadata": {},
     "output_type": "execute_result"
    }
   ],
   "source": [
    "from langchain_community.llms import Ollama\n",
    "import os\n",
    "\n",
    "Ollama(model=os.getenv(\"OPENAI_DEFAULT_MODEL\"), temperature=0).invoke(messages)"
   ]
  },
  {
   "cell_type": "code",
   "execution_count": 10,
   "id": "8b0755c5",
   "metadata": {},
   "outputs": [
    {
     "name": "stderr",
     "output_type": "stream",
     "text": [
      "/tmp/ipykernel_46080/2285454035.py:19: LangChainDeprecationWarning: The class `ChatOllama` was deprecated in LangChain 0.3.1 and will be removed in 1.0.0. An updated version of the class exists in the :class:`~langchain-ollama package and should be used instead. To use it run `pip install -U :class:`~langchain-ollama` and import as `from :class:`~langchain_ollama import ChatOllama``.\n",
      "  chat_model = ChatOllama(model=os.getenv(\"OPENAI_DEFAULT_MODEL\"), format=\"json\", temperature=0)\n"
     ]
    },
    {
     "data": {
      "text/plain": [
       "'{\\n\"답변\": \"40\"\\n}\\n\\n\\n   \\n\\n\\n   \\n\\n\\n\\n\\n\\n\\n\\n\\n\\t \\n\\n\\n\\n\\n\\n\\n\\n\\n\\n\\n\\n\\n\\n\\n\\n'"
      ]
     },
     "execution_count": 10,
     "metadata": {},
     "output_type": "execute_result"
    }
   ],
   "source": [
    "from langchain_community.chat_models import ChatOllama\n",
    "from langchain_core.prompts import ChatPromptTemplate\n",
    "from langchain_core.output_parsers import StrOutputParser\n",
    "\n",
    "def process_query(query):\n",
    "    messages = []\n",
    "    ai_msg = llm_with_tools.invoke(query)\n",
    "    messages.append(ai_msg)\n",
    "    for tool_call in ai_msg.tool_calls:\n",
    "        selected_tool = {\"add\": add, \"multiply\": multiply}[tool_call[\"name\"].lower()]\n",
    "        tool_output = str(selected_tool.invoke(tool_call[\"args\"]))\n",
    "        messages.append(FunctionMessage(tool_output, name=tool_call[\"name\"]))   \n",
    "\n",
    "    chat_prompt = ChatPromptTemplate.from_template(\"\"\"다음 계산에 근거하여 질문에 간단히 한국어로 답하세요:\n",
    "                                                {context}\n",
    "                                                \n",
    "                                                Question:{question}\n",
    "                                                Answer:\"\"\")\n",
    "    chat_model = ChatOllama(model=os.getenv(\"OPENAI_DEFAULT_MODEL\"), format=\"json\", temperature=0)\n",
    "    llm_chain = chat_prompt | chat_model| StrOutputParser()\n",
    "    response = llm_chain.invoke({\"context\":messages, \"question\":query})\n",
    "    if response:\n",
    "        return response\n",
    "    else:\n",
    "        return \"No response found.\"\n",
    "\n",
    "query = \"23 더하기 17은 얼마입니까?\"\n",
    "process_query(query)"
   ]
  }
 ],
 "metadata": {
  "kernelspec": {
   "display_name": "Python 3",
   "language": "python",
   "name": "python3"
  },
  "language_info": {
   "codemirror_mode": {
    "name": "ipython",
    "version": 3
   },
   "file_extension": ".py",
   "mimetype": "text/x-python",
   "name": "python",
   "nbconvert_exporter": "python",
   "pygments_lexer": "ipython3",
   "version": "3.10.12"
  }
 },
 "nbformat": 4,
 "nbformat_minor": 5
}
