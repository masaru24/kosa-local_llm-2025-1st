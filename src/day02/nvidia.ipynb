{
 "cells": [
  {
   "cell_type": "code",
   "execution_count": 1,
   "metadata": {},
   "outputs": [
    {
     "name": "stdout",
     "output_type": "stream",
     "text": [
      "Defaulting to user installation because normal site-packages is not writeable\n",
      "Requirement already satisfied: yfinance in /home/ubuntu/.local/lib/python3.10/site-packages (0.2.54)\n",
      "Requirement already satisfied: matplotlib in /home/ubuntu/.local/lib/python3.10/site-packages (3.10.1)\n",
      "Requirement already satisfied: requests>=2.31 in /home/ubuntu/.local/lib/python3.10/site-packages (from yfinance) (2.32.3)\n",
      "Requirement already satisfied: pytz>=2022.5 in /home/ubuntu/.local/lib/python3.10/site-packages (from yfinance) (2025.1)\n",
      "Requirement already satisfied: frozendict>=2.3.4 in /home/ubuntu/.local/lib/python3.10/site-packages (from yfinance) (2.4.6)\n",
      "Requirement already satisfied: beautifulsoup4>=4.11.1 in /home/ubuntu/.local/lib/python3.10/site-packages (from yfinance) (4.13.3)\n",
      "Requirement already satisfied: peewee>=3.16.2 in /home/ubuntu/.local/lib/python3.10/site-packages (from yfinance) (3.17.9)\n",
      "Requirement already satisfied: multitasking>=0.0.7 in /home/ubuntu/.local/lib/python3.10/site-packages (from yfinance) (0.0.11)\n",
      "Requirement already satisfied: numpy>=1.16.5 in /home/ubuntu/.local/lib/python3.10/site-packages (from yfinance) (2.2.4)\n",
      "Requirement already satisfied: pandas>=1.3.0 in /home/ubuntu/.local/lib/python3.10/site-packages (from yfinance) (2.2.3)\n",
      "Requirement already satisfied: platformdirs>=2.0.0 in /home/ubuntu/.local/lib/python3.10/site-packages (from yfinance) (4.3.6)\n",
      "Requirement already satisfied: cycler>=0.10 in /home/ubuntu/.local/lib/python3.10/site-packages (from matplotlib) (0.12.1)\n",
      "Requirement already satisfied: pillow>=8 in /home/ubuntu/.local/lib/python3.10/site-packages (from matplotlib) (11.1.0)\n",
      "Requirement already satisfied: kiwisolver>=1.3.1 in /home/ubuntu/.local/lib/python3.10/site-packages (from matplotlib) (1.4.8)\n",
      "Requirement already satisfied: contourpy>=1.0.1 in /home/ubuntu/.local/lib/python3.10/site-packages (from matplotlib) (1.3.1)\n",
      "Requirement already satisfied: python-dateutil>=2.7 in /home/ubuntu/.local/lib/python3.10/site-packages (from matplotlib) (2.9.0.post0)\n",
      "Requirement already satisfied: fonttools>=4.22.0 in /home/ubuntu/.local/lib/python3.10/site-packages (from matplotlib) (4.56.0)\n",
      "Requirement already satisfied: packaging>=20.0 in /home/ubuntu/.local/lib/python3.10/site-packages (from matplotlib) (24.2)\n",
      "Requirement already satisfied: pyparsing>=2.3.1 in /usr/lib/python3/dist-packages (from matplotlib) (2.4.7)\n",
      "Requirement already satisfied: typing-extensions>=4.0.0 in /home/ubuntu/.local/lib/python3.10/site-packages (from beautifulsoup4>=4.11.1->yfinance) (4.12.2)\n",
      "Requirement already satisfied: soupsieve>1.2 in /home/ubuntu/.local/lib/python3.10/site-packages (from beautifulsoup4>=4.11.1->yfinance) (2.6)\n",
      "Requirement already satisfied: tzdata>=2022.7 in /home/ubuntu/.local/lib/python3.10/site-packages (from pandas>=1.3.0->yfinance) (2025.1)\n",
      "Requirement already satisfied: six>=1.5 in /usr/lib/python3/dist-packages (from python-dateutil>=2.7->matplotlib) (1.16.0)\n",
      "Requirement already satisfied: urllib3<3,>=1.21.1 in /home/ubuntu/.local/lib/python3.10/site-packages (from requests>=2.31->yfinance) (2.3.0)\n",
      "Requirement already satisfied: certifi>=2017.4.17 in /usr/lib/python3/dist-packages (from requests>=2.31->yfinance) (2020.6.20)\n",
      "Requirement already satisfied: idna<4,>=2.5 in /usr/lib/python3/dist-packages (from requests>=2.31->yfinance) (3.3)\n",
      "Requirement already satisfied: charset-normalizer<4,>=2 in /home/ubuntu/.local/lib/python3.10/site-packages (from requests>=2.31->yfinance) (3.4.1)\n"
     ]
    }
   ],
   "source": [
    "!pip install yfinance matplotlib"
   ]
  },
  {
   "cell_type": "code",
   "execution_count": 2,
   "metadata": {
    "colab": {
     "base_uri": "https://localhost:8080/"
    },
    "executionInfo": {
     "elapsed": 458,
     "status": "ok",
     "timestamp": 1716780397384,
     "user": {
      "displayName": "노규남",
      "userId": "12395859382694188829"
     },
     "user_tz": -540
    },
    "id": "7RRLMEzCE6KH",
    "outputId": "c074cee4-e23a-4a90-f39e-0e3df127b672"
   },
   "outputs": [
    {
     "name": "stdout",
     "output_type": "stream",
     "text": [
      "YF.download() has changed argument auto_adjust default to True\n"
     ]
    },
    {
     "name": "stderr",
     "output_type": "stream",
     "text": [
      "[*********************100%***********************]  1 of 1 completed\n"
     ]
    }
   ],
   "source": [
    "import yfinance as yf\n",
    "import matplotlib.pyplot as plt\n",
    "\n",
    "ticker = \"NVDA\"\n",
    "df = yf.download(ticker, start=\"2024-05-01\", end=\"2024-05-26\")"
   ]
  },
  {
   "cell_type": "code",
   "execution_count": 3,
   "metadata": {
    "colab": {
     "base_uri": "https://localhost:8080/",
     "height": 237
    },
    "executionInfo": {
     "elapsed": 2,
     "status": "ok",
     "timestamp": 1716780406395,
     "user": {
      "displayName": "노규남",
      "userId": "12395859382694188829"
     },
     "user_tz": -540
    },
    "id": "-T1lqhQ0FgBB",
    "outputId": "5a3c37db-a3f9-4c81-f4a0-e95115aab0c6"
   },
   "outputs": [
    {
     "data": {
      "text/html": [
       "<div>\n",
       "<style scoped>\n",
       "    .dataframe tbody tr th:only-of-type {\n",
       "        vertical-align: middle;\n",
       "    }\n",
       "\n",
       "    .dataframe tbody tr th {\n",
       "        vertical-align: top;\n",
       "    }\n",
       "\n",
       "    .dataframe thead tr th {\n",
       "        text-align: left;\n",
       "    }\n",
       "\n",
       "    .dataframe thead tr:last-of-type th {\n",
       "        text-align: right;\n",
       "    }\n",
       "</style>\n",
       "<table border=\"1\" class=\"dataframe\">\n",
       "  <thead>\n",
       "    <tr>\n",
       "      <th>Price</th>\n",
       "      <th>Close</th>\n",
       "      <th>High</th>\n",
       "      <th>Low</th>\n",
       "      <th>Open</th>\n",
       "      <th>Volume</th>\n",
       "    </tr>\n",
       "    <tr>\n",
       "      <th>Ticker</th>\n",
       "      <th>NVDA</th>\n",
       "      <th>NVDA</th>\n",
       "      <th>NVDA</th>\n",
       "      <th>NVDA</th>\n",
       "      <th>NVDA</th>\n",
       "    </tr>\n",
       "    <tr>\n",
       "      <th>Date</th>\n",
       "      <th></th>\n",
       "      <th></th>\n",
       "      <th></th>\n",
       "      <th></th>\n",
       "      <th></th>\n",
       "    </tr>\n",
       "  </thead>\n",
       "  <tbody>\n",
       "    <tr>\n",
       "      <th>2024-05-01</th>\n",
       "      <td>83.013718</td>\n",
       "      <td>85.971745</td>\n",
       "      <td>81.228301</td>\n",
       "      <td>85.049052</td>\n",
       "      <td>559863000</td>\n",
       "    </tr>\n",
       "    <tr>\n",
       "      <th>2024-05-02</th>\n",
       "      <td>85.788811</td>\n",
       "      <td>86.208671</td>\n",
       "      <td>83.172666</td>\n",
       "      <td>84.421256</td>\n",
       "      <td>377898000</td>\n",
       "    </tr>\n",
       "    <tr>\n",
       "      <th>2024-05-03</th>\n",
       "      <td>88.759834</td>\n",
       "      <td>89.251669</td>\n",
       "      <td>87.011408</td>\n",
       "      <td>87.760163</td>\n",
       "      <td>398341000</td>\n",
       "    </tr>\n",
       "    <tr>\n",
       "      <th>2024-05-06</th>\n",
       "      <td>92.109726</td>\n",
       "      <td>92.189701</td>\n",
       "      <td>89.025740</td>\n",
       "      <td>89.360629</td>\n",
       "      <td>376203000</td>\n",
       "    </tr>\n",
       "    <tr>\n",
       "      <th>2024-05-07</th>\n",
       "      <td>90.524254</td>\n",
       "      <td>91.750848</td>\n",
       "      <td>88.981761</td>\n",
       "      <td>91.068074</td>\n",
       "      <td>437342000</td>\n",
       "    </tr>\n",
       "  </tbody>\n",
       "</table>\n",
       "</div>"
      ],
      "text/plain": [
       "Price           Close       High        Low       Open     Volume\n",
       "Ticker           NVDA       NVDA       NVDA       NVDA       NVDA\n",
       "Date                                                             \n",
       "2024-05-01  83.013718  85.971745  81.228301  85.049052  559863000\n",
       "2024-05-02  85.788811  86.208671  83.172666  84.421256  377898000\n",
       "2024-05-03  88.759834  89.251669  87.011408  87.760163  398341000\n",
       "2024-05-06  92.109726  92.189701  89.025740  89.360629  376203000\n",
       "2024-05-07  90.524254  91.750848  88.981761  91.068074  437342000"
      ]
     },
     "execution_count": 3,
     "metadata": {},
     "output_type": "execute_result"
    }
   ],
   "source": [
    "df.head()"
   ]
  },
  {
   "cell_type": "code",
   "execution_count": 4,
   "metadata": {
    "colab": {
     "base_uri": "https://localhost:8080/",
     "height": 237
    },
    "executionInfo": {
     "elapsed": 504,
     "status": "ok",
     "timestamp": 1716780417721,
     "user": {
      "displayName": "노규남",
      "userId": "12395859382694188829"
     },
     "user_tz": -540
    },
    "id": "n3uI4WV6FiHh",
    "outputId": "4ca55607-bcd1-4bea-e469-8b48e8a27036"
   },
   "outputs": [
    {
     "data": {
      "text/html": [
       "<div>\n",
       "<style scoped>\n",
       "    .dataframe tbody tr th:only-of-type {\n",
       "        vertical-align: middle;\n",
       "    }\n",
       "\n",
       "    .dataframe tbody tr th {\n",
       "        vertical-align: top;\n",
       "    }\n",
       "\n",
       "    .dataframe thead tr th {\n",
       "        text-align: left;\n",
       "    }\n",
       "\n",
       "    .dataframe thead tr:last-of-type th {\n",
       "        text-align: right;\n",
       "    }\n",
       "</style>\n",
       "<table border=\"1\" class=\"dataframe\">\n",
       "  <thead>\n",
       "    <tr>\n",
       "      <th>Price</th>\n",
       "      <th>Close</th>\n",
       "      <th>High</th>\n",
       "      <th>Low</th>\n",
       "      <th>Open</th>\n",
       "      <th>Volume</th>\n",
       "    </tr>\n",
       "    <tr>\n",
       "      <th>Ticker</th>\n",
       "      <th>NVDA</th>\n",
       "      <th>NVDA</th>\n",
       "      <th>NVDA</th>\n",
       "      <th>NVDA</th>\n",
       "      <th>NVDA</th>\n",
       "    </tr>\n",
       "    <tr>\n",
       "      <th>Date</th>\n",
       "      <th></th>\n",
       "      <th></th>\n",
       "      <th></th>\n",
       "      <th></th>\n",
       "      <th></th>\n",
       "    </tr>\n",
       "  </thead>\n",
       "  <tbody>\n",
       "    <tr>\n",
       "      <th>2024-05-20</th>\n",
       "      <td>94.748871</td>\n",
       "      <td>95.168731</td>\n",
       "      <td>93.409315</td>\n",
       "      <td>93.719210</td>\n",
       "      <td>318764000</td>\n",
       "    </tr>\n",
       "    <tr>\n",
       "      <th>2024-05-21</th>\n",
       "      <td>95.354668</td>\n",
       "      <td>95.368663</td>\n",
       "      <td>93.149391</td>\n",
       "      <td>93.568252</td>\n",
       "      <td>328946000</td>\n",
       "    </tr>\n",
       "    <tr>\n",
       "      <th>2024-05-22</th>\n",
       "      <td>94.918808</td>\n",
       "      <td>95.988456</td>\n",
       "      <td>93.218370</td>\n",
       "      <td>95.427643</td>\n",
       "      <td>548648000</td>\n",
       "    </tr>\n",
       "    <tr>\n",
       "      <th>2024-05-23</th>\n",
       "      <td>103.764908</td>\n",
       "      <td>106.285076</td>\n",
       "      <td>101.486649</td>\n",
       "      <td>101.994486</td>\n",
       "      <td>835065000</td>\n",
       "    </tr>\n",
       "    <tr>\n",
       "      <th>2024-05-24</th>\n",
       "      <td>106.434021</td>\n",
       "      <td>106.440016</td>\n",
       "      <td>102.966159</td>\n",
       "      <td>104.414680</td>\n",
       "      <td>429494000</td>\n",
       "    </tr>\n",
       "  </tbody>\n",
       "</table>\n",
       "</div>"
      ],
      "text/plain": [
       "Price            Close        High         Low        Open     Volume\n",
       "Ticker            NVDA        NVDA        NVDA        NVDA       NVDA\n",
       "Date                                                                 \n",
       "2024-05-20   94.748871   95.168731   93.409315   93.719210  318764000\n",
       "2024-05-21   95.354668   95.368663   93.149391   93.568252  328946000\n",
       "2024-05-22   94.918808   95.988456   93.218370   95.427643  548648000\n",
       "2024-05-23  103.764908  106.285076  101.486649  101.994486  835065000\n",
       "2024-05-24  106.434021  106.440016  102.966159  104.414680  429494000"
      ]
     },
     "execution_count": 4,
     "metadata": {},
     "output_type": "execute_result"
    }
   ],
   "source": [
    "df.tail()"
   ]
  },
  {
   "cell_type": "code",
   "execution_count": 5,
   "metadata": {
    "colab": {
     "base_uri": "https://localhost:8080/",
     "height": 634
    },
    "executionInfo": {
     "elapsed": 962,
     "status": "ok",
     "timestamp": 1716780421933,
     "user": {
      "displayName": "노규남",
      "userId": "12395859382694188829"
     },
     "user_tz": -540
    },
    "id": "3gAjNkn5FU3S",
    "outputId": "8c28f31a-019e-4df1-e23a-52848662668c"
   },
   "outputs": [
    {
     "data": {
      "image/png": "[encoded data removed]",
      "text/plain": [
       "<Figure size 1400x700 with 1 Axes>"
      ]
     },
     "metadata": {},
     "output_type": "display_data"
    }
   ],
   "source": [
    "plt.figure(figsize=(14, 7))\n",
    "plt.plot(df['Close'], label='Closing Price')\n",
    "plt.title('NVIDIA(NVDA) Stock Price')\n",
    "plt.xlabel('Date')\n",
    "plt.ylabel('Price')\n",
    "plt.legend()\n",
    "plt.show()\n"
   ]
  },
  {
   "cell_type": "code",
   "execution_count": 6,
   "metadata": {},
   "outputs": [],
   "source": [
    "df.rename(columns={\n",
    "    'Open': '시가',\n",
    "    'High': '고가',\n",
    "    'Low': '저가',\n",
    "    'Close': '종가',\n",
    "    'Adj Close': '수정 종가',\n",
    "    'Volume': '거래량'\n",
    "}, inplace=True)\n",
    "\n",
    "df.rename_axis('날짜', inplace=True)"
   ]
  },
  {
   "cell_type": "code",
   "execution_count": 7,
   "metadata": {},
   "outputs": [
    {
     "data": {
      "text/html": [
       "<div>\n",
       "<style scoped>\n",
       "    .dataframe tbody tr th:only-of-type {\n",
       "        vertical-align: middle;\n",
       "    }\n",
       "\n",
       "    .dataframe tbody tr th {\n",
       "        vertical-align: top;\n",
       "    }\n",
       "\n",
       "    .dataframe thead tr th {\n",
       "        text-align: left;\n",
       "    }\n",
       "\n",
       "    .dataframe thead tr:last-of-type th {\n",
       "        text-align: right;\n",
       "    }\n",
       "</style>\n",
       "<table border=\"1\" class=\"dataframe\">\n",
       "  <thead>\n",
       "    <tr>\n",
       "      <th>Price</th>\n",
       "      <th>종가</th>\n",
       "      <th>고가</th>\n",
       "      <th>저가</th>\n",
       "      <th>시가</th>\n",
       "      <th>거래량</th>\n",
       "    </tr>\n",
       "    <tr>\n",
       "      <th>Ticker</th>\n",
       "      <th>NVDA</th>\n",
       "      <th>NVDA</th>\n",
       "      <th>NVDA</th>\n",
       "      <th>NVDA</th>\n",
       "      <th>NVDA</th>\n",
       "    </tr>\n",
       "    <tr>\n",
       "      <th>날짜</th>\n",
       "      <th></th>\n",
       "      <th></th>\n",
       "      <th></th>\n",
       "      <th></th>\n",
       "      <th></th>\n",
       "    </tr>\n",
       "  </thead>\n",
       "  <tbody>\n",
       "    <tr>\n",
       "      <th>2024-05-01</th>\n",
       "      <td>83.013718</td>\n",
       "      <td>85.971745</td>\n",
       "      <td>81.228301</td>\n",
       "      <td>85.049052</td>\n",
       "      <td>559863000</td>\n",
       "    </tr>\n",
       "    <tr>\n",
       "      <th>2024-05-02</th>\n",
       "      <td>85.788811</td>\n",
       "      <td>86.208671</td>\n",
       "      <td>83.172666</td>\n",
       "      <td>84.421256</td>\n",
       "      <td>377898000</td>\n",
       "    </tr>\n",
       "    <tr>\n",
       "      <th>2024-05-03</th>\n",
       "      <td>88.759834</td>\n",
       "      <td>89.251669</td>\n",
       "      <td>87.011408</td>\n",
       "      <td>87.760163</td>\n",
       "      <td>398341000</td>\n",
       "    </tr>\n",
       "    <tr>\n",
       "      <th>2024-05-06</th>\n",
       "      <td>92.109726</td>\n",
       "      <td>92.189701</td>\n",
       "      <td>89.025740</td>\n",
       "      <td>89.360629</td>\n",
       "      <td>376203000</td>\n",
       "    </tr>\n",
       "    <tr>\n",
       "      <th>2024-05-07</th>\n",
       "      <td>90.524254</td>\n",
       "      <td>91.750848</td>\n",
       "      <td>88.981761</td>\n",
       "      <td>91.068074</td>\n",
       "      <td>437342000</td>\n",
       "    </tr>\n",
       "  </tbody>\n",
       "</table>\n",
       "</div>"
      ],
      "text/plain": [
       "Price              종가         고가         저가         시가        거래량\n",
       "Ticker           NVDA       NVDA       NVDA       NVDA       NVDA\n",
       "날짜                                                               \n",
       "2024-05-01  83.013718  85.971745  81.228301  85.049052  559863000\n",
       "2024-05-02  85.788811  86.208671  83.172666  84.421256  377898000\n",
       "2024-05-03  88.759834  89.251669  87.011408  87.760163  398341000\n",
       "2024-05-06  92.109726  92.189701  89.025740  89.360629  376203000\n",
       "2024-05-07  90.524254  91.750848  88.981761  91.068074  437342000"
      ]
     },
     "execution_count": 7,
     "metadata": {},
     "output_type": "execute_result"
    }
   ],
   "source": [
    "df.head()"
   ]
  },
  {
   "cell_type": "code",
   "execution_count": 8,
   "metadata": {
    "colab": {
     "base_uri": "https://localhost:8080/",
     "height": 148
    },
    "executionInfo": {
     "elapsed": 3,
     "status": "ok",
     "timestamp": 1716780480500,
     "user": {
      "displayName": "노규남",
      "userId": "12395859382694188829"
     },
     "user_tz": -540
    },
    "id": "qObWNXIRFmgp",
    "outputId": "eaa48853-5509-4c32-a473-741f6a4dda26"
   },
   "outputs": [
    {
     "name": "stdout",
     "output_type": "stream",
     "text": [
      "Price,종가,고가,저가,시가,거래량\n",
      "Ticker,NVDA,NVDA,NVDA,NVDA,NVDA\n",
      "날짜,,,,,\n",
      "2024-05-01,83.01371765136719,85.9717451202874,81.22830132116862,85.04905184528752,559863000\n",
      "2024-05-02,85.78881072998047,86.20867093085921,83.17266601309362,84.42125626969049,377898000\n",
      "2024-05-03,88.75983428955078,89.25166943381491,87.01140828668458,87.76016278941914,398341000\n",
      "2024-05-06,92.10972595214844,92.18970149787158,89.02574047227303,89.36062948973989,376203000\n",
      "2024-05-07,90.52425384521484,91.75084815179432,88.98176145323684,91.06807385977748,437342000\n",
      "2024-05-08,90.38229370117188,91.16403442191073,89.39061527356014,89.45359811099952,325721000\n",
      "2024-05-09,88.71784973144531,91.04208295679378,88.20202038816478,90.4992620554592,378013000\n",
      "2024-05-10,89.84847259521484,91.3709748992257,89.19768547851668,90.2753342742342,335325000\n",
      "2024-05-13,90.36930847167969,90.96811074029578,88.49991996993283,90.44827727503778,289680000\n",
      "2024-05-14,91.32599639892578,91.62089767401247,88.90478722070216,89.56956971282393,296507000\n",
      "2024-05-15,94.59890747070312,94.83083350687552,91.5689050462718,92.44161932872312,417735000\n",
      "2024-05-16,94.3280029296875,95.78752238437566,94.07208269713682,94.87882442022669,323952000\n",
      "2024-05-17,92.44861602783203,94.70887485375151,91.77584059273352,94.33800216120143,359691000\n",
      "2024-05-20,94.74887084960938,95.16873108150425,93.40931459730984,93.71921034558147,318764000\n",
      "2024-05-21,95.35466766357422,95.36866300361463,93.14939104451075,93.56825212335475,328946000\n",
      "2024-05-22,94.91880798339844,95.98845620709115,93.21837032400495,95.42764347286975,548648000\n",
      "2024-05-23,103.76490783691406,106.2850758370863,101.48664948420172,101.99448585081109,835065000\n",
      "2024-05-24,106.43402099609375,106.44001572995658,102.96615897909761,104.41468040331056,429494000\n",
      "\n"
     ]
    }
   ],
   "source": [
    "from io import StringIO\n",
    "csv_buffer = StringIO()\n",
    "df.to_csv(csv_buffer)\n",
    "\n",
    "csv_data = csv_buffer.getvalue()\n",
    "print(csv_data)"
   ]
  },
  {
   "cell_type": "code",
   "execution_count": 9,
   "metadata": {
    "colab": {
     "base_uri": "https://localhost:8080/"
    },
    "executionInfo": {
     "elapsed": 9434,
     "status": "ok",
     "timestamp": 1716780567239,
     "user": {
      "displayName": "노규남",
      "userId": "12395859382694188829"
     },
     "user_tz": -540
    },
    "id": "HrKtgYy-GCtH",
    "outputId": "1d83ce76-bf0d-4714-fdff-1d544dda7567"
   },
   "outputs": [
    {
     "name": "stdout",
     "output_type": "stream",
     "text": [
      "Defaulting to user installation because normal site-packages is not writeable\n",
      "Requirement already satisfied: openai in /home/ubuntu/.local/lib/python3.10/site-packages (1.66.3)\n",
      "Requirement already satisfied: httpx<1,>=0.23.0 in /home/ubuntu/.local/lib/python3.10/site-packages (from openai) (0.28.1)\n",
      "Requirement already satisfied: sniffio in /home/ubuntu/.local/lib/python3.10/site-packages (from openai) (1.3.1)\n",
      "Requirement already satisfied: typing-extensions<5,>=4.11 in /home/ubuntu/.local/lib/python3.10/site-packages (from openai) (4.12.2)\n",
      "Requirement already satisfied: distro<2,>=1.7.0 in /usr/lib/python3/dist-packages (from openai) (1.7.0)\n",
      "Requirement already satisfied: jiter<1,>=0.4.0 in /home/ubuntu/.local/lib/python3.10/site-packages (from openai) (0.9.0)\n",
      "Requirement already satisfied: pydantic<3,>=1.9.0 in /home/ubuntu/.local/lib/python3.10/site-packages (from openai) (2.10.6)\n",
      "Requirement already satisfied: tqdm>4 in /home/ubuntu/.local/lib/python3.10/site-packages (from openai) (4.67.1)\n",
      "Requirement already satisfied: anyio<5,>=3.5.0 in /home/ubuntu/.local/lib/python3.10/site-packages (from openai) (4.9.0)\n",
      "Requirement already satisfied: idna>=2.8 in /usr/lib/python3/dist-packages (from anyio<5,>=3.5.0->openai) (3.3)\n",
      "Requirement already satisfied: exceptiongroup>=1.0.2 in /home/ubuntu/.local/lib/python3.10/site-packages (from anyio<5,>=3.5.0->openai) (1.2.2)\n",
      "Requirement already satisfied: certifi in /usr/lib/python3/dist-packages (from httpx<1,>=0.23.0->openai) (2020.6.20)\n",
      "Requirement already satisfied: httpcore==1.* in /home/ubuntu/.local/lib/python3.10/site-packages (from httpx<1,>=0.23.0->openai) (1.0.7)\n",
      "Requirement already satisfied: h11<0.15,>=0.13 in /home/ubuntu/.local/lib/python3.10/site-packages (from httpcore==1.*->httpx<1,>=0.23.0->openai) (0.14.0)\n",
      "Requirement already satisfied: pydantic-core==2.27.2 in /home/ubuntu/.local/lib/python3.10/site-packages (from pydantic<3,>=1.9.0->openai) (2.27.2)\n",
      "Requirement already satisfied: annotated-types>=0.6.0 in /home/ubuntu/.local/lib/python3.10/site-packages (from pydantic<3,>=1.9.0->openai) (0.7.0)\n"
     ]
    }
   ],
   "source": [
    "!pip install openai"
   ]
  },
  {
   "cell_type": "code",
   "execution_count": 10,
   "metadata": {
    "colab": {
     "base_uri": "https://localhost:8080/"
    },
    "executionInfo": {
     "elapsed": 5960,
     "status": "ok",
     "timestamp": 1716780659756,
     "user": {
      "displayName": "노규남",
      "userId": "12395859382694188829"
     },
     "user_tz": -540
    },
    "id": "-r9nrHOVF1C4",
    "outputId": "805d353a-768f-4e2d-fc86-e18f25761069"
   },
   "outputs": [
    {
     "name": "stdout",
     "output_type": "stream",
     "text": [
      "## 엔비디아(NVDA) 주가 분석\n",
      "\n",
      "제공된 데이터에 따르면, 엔비디아의 주가는 2024년 5월 초부터 중순까지 상승세를 보이다가, 5월 23일과 24일에 급격한 상승을 경험했습니다. \n",
      "\n",
      "**주요 관찰 사항:**\n",
      "\n",
      "* **상승 추세:** 전반적으로 주가는 상승 추세를 유지하고 있습니다. 특히 5월 23일 이후 급격한 상승이 두드러집니다.\n",
      "* **거래량 증가:** 5월 22일과 24일에 거래량이 급증했습니다. 이는 투자자들의 관심 증가와 함께 주가 상승에 영향을 미쳤을 가능성이 높습니다.\n",
      "* **변동성:** 주가는 비교적 안정적이지만, 일부 날짜에는 변동성이 존재합니다. 특히 5월 15일과 20일에는 가격 변동이 다소 큰 편이었습니다.\n",
      "\n",
      "**주가에 대한 의견:**\n",
      "\n",
      "엔비디아의 최근 주가 상승은 긍정적인 신호를 보여줍니다. 인공지능, 머신러닝, 데이터 분석 등 GPU 수요 증가에 힘입어 엔비디아는 꾸준히 성장해왔으며, 이러한 추세는 당분간 지속될 것으로 예상됩니다. \n",
      "\n",
      "**다만, 다음과 같은 점들을 고려해야 합니다:**\n",
      "\n",
      "* **고가 형성:** 최근 주가는 높은 수준에 도달했습니다. 투자 전, 잠재적인 과열 가능성과 가격 조정의 위험성을 고려해야 합니다.\n",
      "* **시장 변동성:** 기술주들은 일반적으로 시장 변동에 민감하게 반응합니다. 글로벌 경제 상황과 금리 변동 등을 면밀히 살펴야 합니다.\n",
      "\n",
      "**결론적으로, 엔비디아의 주가는 상승 추세를 보이고 있지만 투자 전 철저한 분석이 필요합니다.**  기술적 분석과 기본적 분석을 통해 투자 전략을 수립하고, 위험 관리에도 유의해야 합니다.\n"
     ]
    }
   ],
   "source": [
    "import os\n",
    "import openai\n",
    "\n",
    "openai.api_key = os.getenv(\"OPENAI_API_KEY\")\n",
    "\n",
    "response = openai.chat.completions.create(\n",
    "  model=os.getenv(\"OPENAI_DEFAULT_MODEL\"),\n",
    "  messages=[\n",
    "    {\n",
    "      \"role\": \"system\",\n",
    "      \"content\": \"다음은 엔비디아의 날짜별 주가 데이터야. 이 데이터를 분석해서 요약하고 주가에 대한 의견을 줘.\"\n",
    "    },\n",
    "    {\n",
    "      \"role\": \"user\",\n",
    "      \"content\": csv_data\n",
    "    }\n",
    "  ],\n",
    "  temperature=0,\n",
    "  max_tokens=1024,\n",
    "  top_p=1,\n",
    "  frequency_penalty=0,\n",
    "  presence_penalty=0\n",
    ")\n",
    "\n",
    "print(response.choices[0].message.content)"
   ]
  }
 ],
 "metadata": {
  "colab": {
   "authorship_tag": "ABX9TyO3xQRFB6BhLOQvEj1hXA2s",
   "provenance": []
  },
  "kernelspec": {
   "display_name": "Python 3",
   "name": "python3"
  },
  "language_info": {
   "codemirror_mode": {
    "name": "ipython",
    "version": 3
   },
   "file_extension": ".py",
   "mimetype": "text/x-python",
   "name": "python",
   "nbconvert_exporter": "python",
   "pygments_lexer": "ipython3",
   "version": "3.10.12"
  }
 },
 "nbformat": 4,
 "nbformat_minor": 0
}
